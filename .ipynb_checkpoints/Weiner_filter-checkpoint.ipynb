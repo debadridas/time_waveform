{
 "cells": [
  {
   "cell_type": "code",
   "execution_count": 1,
   "metadata": {
    "scrolled": false
   },
   "outputs": [
    {
     "name": "stdout",
     "output_type": "stream",
     "text": [
      "ave1/C1--HighPulse-in-100-out1700-an2100--00039.txt\n"
     ]
    },
    {
     "ename": "NameError",
     "evalue": "name 'exp' is not defined",
     "output_type": "error",
     "traceback": [
      "\u001b[0;31m\u001b[0m",
      "\u001b[0;31mNameError\u001b[0mTraceback (most recent call last)",
      "\u001b[0;32m<ipython-input-1-73d014b8674d>\u001b[0m in \u001b[0;36m<module>\u001b[0;34m()\u001b[0m\n\u001b[1;32m     29\u001b[0m \u001b[0;34m\u001b[0m\u001b[0m\n\u001b[1;32m     30\u001b[0m \u001b[0;31m#generating convoluting signal\u001b[0m\u001b[0;34m\u001b[0m\u001b[0;34m\u001b[0m\u001b[0m\n\u001b[0;32m---> 31\u001b[0;31m \u001b[0mG\u001b[0m \u001b[0;34m=\u001b[0m \u001b[0mexp\u001b[0m\u001b[0;34m(\u001b[0m\u001b[0;34m-\u001b[0m\u001b[0;36m2\u001b[0m\u001b[0;34m*\u001b[0m\u001b[0mcmath\u001b[0m\u001b[0;34m.\u001b[0m\u001b[0mpi\u001b[0m\u001b[0;34m*\u001b[0m\u001b[0;36m1j\u001b[0m\u001b[0;34m*\u001b[0m\u001b[0mfreq\u001b[0m\u001b[0;34m*\u001b[0m\u001b[0mtime\u001b[0m\u001b[0;34m[\u001b[0m\u001b[0midx\u001b[0m\u001b[0;34m]\u001b[0m\u001b[0;34m)\u001b[0m\u001b[0;34m*\u001b[0m\u001b[0mH\u001b[0m \u001b[0;31m#+ fft(noise)\u001b[0m\u001b[0;34m\u001b[0m\u001b[0m\n\u001b[0m\u001b[1;32m     32\u001b[0m \u001b[0;34m\u001b[0m\u001b[0m\n\u001b[1;32m     33\u001b[0m \u001b[0;31m#PSD calculation\u001b[0m\u001b[0;34m\u001b[0m\u001b[0;34m\u001b[0m\u001b[0m\n",
      "\u001b[0;31mNameError\u001b[0m: name 'exp' is not defined"
     ]
    }
   ],
   "source": [
    "%matplotlib notebook\n",
    "\n",
    "import numpy as np\n",
    "from scipy.fftpack import fft, fftfreq, ifft\n",
    "from scipy import signal\n",
    "import pandas as pd\n",
    "import cmath\n",
    "import matplotlib.pyplot as plt\n",
    "\n",
    "#select a random response within 10-99\n",
    "filename = 'ave1/C1--HighPulse-in-100-out1700-an2100--000' + str(np.random.randint(10,99)) + '.txt'\n",
    "print filename\n",
    "df = pd.read_table(filename, sep=\"\\t\", names={'I','II'},\n",
    "                   dtype = {'I': np.float64, 'II': np.float64}, usecols = [1,0], skiprows=5) \n",
    "time = df['I'].tolist()\n",
    "time = [ time[i]* 1.0e9 for i in range(len(time))]\n",
    "h = df['II'].tolist()\n",
    "\n",
    "#generating one peak unit impulse signal at any random time starting from time=0\n",
    "#idx=np.random.randint(len(time)/2,len(time))\n",
    "idx = len(time)/2\n",
    "sig = signal.unit_impulse(len(time), idx=idx)\n",
    "\n",
    "N0 = 0.1 #variance\n",
    "noise = np.random.normal(size=len(sig), scale=np.sqrt(N0))\n",
    "\n",
    "freq = fftfreq(sig.size,d = time[1]-time[0])\n",
    "H = fft(h)\n",
    "\n",
    "#generating convoluting signal\n",
    "G = np.exp(-2*np.pi*1j*freq*time[idx])*H #+ fft(noise)\n",
    "\n",
    "#PSD calculation\n",
    "#psdn = np.abs(fft(noise))**2\n",
    "psdg = np.abs(G)**2\n",
    "\n",
    "fig = plt.figure()\n",
    "ax = fig.subplots() \n",
    "ax.plot(time,sig) \n",
    "ax.set_title(label='Original Signal')\n",
    "ax.grid(True)\n",
    "\n",
    "fig = plt.figure()\n",
    "ax = fig.subplots()\n",
    "ax.plot(time,h)\n",
    "ax.set_title(label='Hamamatsu Response in time')\n",
    "ax.grid(True)\n",
    "\n",
    "fig = plt.figure()\n",
    "ax = fig.subplots()\n",
    "ax.plot(freq,H)\n",
    "ax.set_title(label='Hamamatsu Response in omega')\n",
    "ax.grid(True)\n",
    "\n",
    "fig = plt.figure()\n",
    "ax = fig.subplots()\n",
    "ax.plot(freq,G)\n",
    "ax.set_title(label='Convoluted Signal in omega')\n",
    "ax.grid(True)\n",
    "\n",
    "fig = plt.figure()\n",
    "ax = fig.subplots()\n",
    "#ax.plot(freq,20*np.log10(psdn),color='g')\n",
    "ax.plot(freq,20*np.log10(psdg),color='blue')\n",
    "ax.set_title(label='PSDs in dB')\n",
    "ax.grid(True)"
   ]
  },
  {
   "cell_type": "code",
   "execution_count": 12,
   "metadata": {},
   "outputs": [
    {
     "data": {
      "text/plain": [
       "4002"
      ]
     },
     "execution_count": 12,
     "metadata": {},
     "output_type": "execute_result"
    }
   ],
   "source": [
    "len(freq)"
   ]
  },
  {
   "cell_type": "code",
   "execution_count": null,
   "metadata": {},
   "outputs": [],
   "source": []
  }
 ],
 "metadata": {
  "kernelspec": {
   "display_name": "Python 2 ana-current",
   "language": "python",
   "name": "ana-current"
  },
  "language_info": {
   "codemirror_mode": {
    "name": "ipython",
    "version": 2
   },
   "file_extension": ".py",
   "mimetype": "text/x-python",
   "name": "python",
   "nbconvert_exporter": "python",
   "pygments_lexer": "ipython2",
   "version": "2.7.15"
  }
 },
 "nbformat": 4,
 "nbformat_minor": 2
}
