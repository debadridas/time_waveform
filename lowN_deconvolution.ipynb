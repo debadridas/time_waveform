{
 "cells": [
  {
   "cell_type": "code",
   "execution_count": 17,
   "metadata": {},
   "outputs": [],
   "source": [
    "def hama_response(N):\n",
    "    filename = 'ave1/C1--HighPulse-in-100-out1700-an2100--00000.dat'\n",
    "    time,h = np.loadtxt(filename,unpack=True)\n",
    "    ids = np.random.randint(1,300,size=(N-1,1))\n",
    "    for id in ids:\n",
    "        filename = 'ave1/C1--HighPulse-in-100-out1700-an2100--%05i.dat' % id\n",
    "        time,hi = np.loadtxt(filename,unpack=True)\n",
    "        h = np.row_stack((h,hi))\n",
    "    return time,h"
   ]
  },
  {
   "cell_type": "code",
   "execution_count": 20,
   "metadata": {},
   "outputs": [],
   "source": [
    "def gaussian_pde(time,N,rate,width):\n",
    "    mu = time[3*len(time)/4]\n",
    "    pde = (1/np.sqrt(width**2*np.pi*2))*np.exp(-(rate*(time[len(time)/2:]-mu)*1.0e9)**2/width)\n",
    "    fig = plt.figure()\n",
    "    plt.plot(time[len(time)/2:],pde)\n",
    "    ids=[]\n",
    "    count = 0\n",
    "    for i in range(len(pde)):\n",
    "        if count == N:\n",
    "            break\n",
    "        elif np.random.choice([1,0], 1, p=[pde[i],1-pde[i]]) == 1:\n",
    "            ids = np.append(ids,len(time)/2+i)\n",
    "            count +=1\n",
    "    return ids"
   ]
  },
  {
   "cell_type": "code",
   "execution_count": null,
   "metadata": {
    "scrolled": false
   },
   "outputs": [],
   "source": [
    "%matplotlib notebook\n",
    "\n",
    "import numpy as np\n",
    "from scipy.fftpack import fft, fftfreq, ifft\n",
    "import matplotlib.pyplot as plt\n",
    "\n",
    "N = 10\n",
    "\n",
    "time, h = hama_response(N)\n",
    "havg = np.mean(h,axis=0)\n",
    "H = fft(h,axis=1)\n",
    "Havg = fft(havg)\n",
    "\n",
    "freq = fftfreq(time.size,d = time[1]-time[0])\n",
    "\n",
    "\"\"\"#random distribution of hits\n",
    "index = np.random.randint(len(time)/2,len(time),size=(N,1))\n",
    "\"\"\"\n",
    "\n",
    "#gaussian probability distribution of hits\n",
    "rate = 1.0   #sampling rate\n",
    "width = 10.0  #gaussian width\n",
    "index = gaussian_pde(time,N,rate,width)\n",
    "print index\n",
    "\n",
    "S = np.exp(-2*np.pi*1j*freq*time[index])\n",
    "G = S*H\n",
    "\n",
    "S = np.sum(S,axis=0)\n",
    "Gavg = S*Havg\n",
    "\n",
    "G = np.sum(G,axis=0)\n",
    "\n",
    "s = np.real(ifft(S))\n",
    "g = np.real(ifft(G))\n",
    "gavg = np.real(ifft(Gavg))\n",
    "\n",
    "fig = plt.figure()\n",
    "ax = fig.subplots()\n",
    "ax.plot(time,s,label='impulses')\n",
    "ax.plot(time,g,label='signals')\n",
    "ax.plot(time,gavg,label='noiseless_signals')\n",
    "ax.set_title(label='Signals')\n",
    "ax.grid(True)\n",
    "ax.legend()"
   ]
  },
  {
   "cell_type": "code",
   "execution_count": 16,
   "metadata": {},
   "outputs": [
    {
     "data": {
      "text/plain": [
       "5"
      ]
     },
     "execution_count": 16,
     "metadata": {},
     "output_type": "execute_result"
    }
   ],
   "source": [
    "len(range(10))/2"
   ]
  },
  {
   "cell_type": "code",
   "execution_count": null,
   "metadata": {},
   "outputs": [],
   "source": []
  }
 ],
 "metadata": {
  "kernelspec": {
   "display_name": "Python 2 ana-current",
   "language": "python",
   "name": "ana-current"
  },
  "language_info": {
   "codemirror_mode": {
    "name": "ipython",
    "version": 2
   },
   "file_extension": ".py",
   "mimetype": "text/x-python",
   "name": "python",
   "nbconvert_exporter": "python",
   "pygments_lexer": "ipython2",
   "version": "2.7.15"
  }
 },
 "nbformat": 4,
 "nbformat_minor": 2
}
